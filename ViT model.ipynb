{
 "cells": [
  {
   "cell_type": "markdown",
   "metadata": {},
   "source": [
    "This is the implementation of real-vs-ai-generated images detection using ViT"
   ]
  },
  {
   "cell_type": "code",
   "execution_count": 2,
   "metadata": {
    "execution": {
     "iopub.execute_input": "2024-04-17T16:08:12.502144Z",
     "iopub.status.busy": "2024-04-17T16:08:12.501820Z",
     "iopub.status.idle": "2024-04-17T16:08:25.021957Z",
     "shell.execute_reply": "2024-04-17T16:08:25.020984Z",
     "shell.execute_reply.started": "2024-04-17T16:08:12.502102Z"
    }
   },
   "outputs": [],
   "source": [
    "import numpy as np\n",
    "import pandas as pd\n",
    "from sklearn.metrics import accuracy_score, f1_score, confusion_matrix, classification_report\n",
    "from imblearn.over_sampling import RandomOverSampler\n",
    "from datasets import Dataset, ClassLabel, Image\n",
    "from transformers import TrainingArguments, Trainer, ViTImageProcessor, ViTForImageClassification, DefaultDataCollator\n",
    "import torch\n",
    "from torchvision.transforms import Compose, Normalize, RandomRotation, RandomResizedCrop, RandomHorizontalFlip, RandomAdjustSharpness, Resize, ToTensor\n",
    "import evaluate\n",
    "from PIL import ImageFile\n",
    "ImageFile.LOAD_TRUNCATED_IMAGES = True\n",
    "from pathlib import Path\n",
    "from tqdm import tqdm\n",
    "import os\n",
    "import matplotlib.pyplot as plt\n",
    "import gc\n",
    "import warnings\n",
    "warnings.filterwarnings(\"ignore\")"
   ]
  },
  {
   "cell_type": "code",
   "execution_count": 4,
   "metadata": {
    "execution": {
     "iopub.execute_input": "2024-04-17T16:08:25.032423Z",
     "iopub.status.busy": "2024-04-17T16:08:25.032049Z",
     "iopub.status.idle": "2024-04-17T16:08:29.589204Z",
     "shell.execute_reply": "2024-04-17T16:08:29.588467Z",
     "shell.execute_reply.started": "2024-04-17T16:08:25.032375Z"
    }
   },
   "outputs": [
    {
     "name": "stdout",
     "output_type": "stream",
     "text": [
      "120000 120000\n",
      "(120000, 2)\n"
     ]
    }
   ],
   "source": [
    "# Load image data\n",
    "image_files = []\n",
    "image_labels = []\n",
    "\n",
    "for file_path in sorted((Path('dataset/cifake/').glob('*/*/*.*'))):\n",
    "    label = str(file_path).split('/')[-2]\n",
    "    image_labels.append(label)\n",
    "    image_files.append(str(file_path))\n",
    "\n",
    "print(len(image_files), len(image_labels))\n",
    "df = pd.DataFrame({\"image_path\": image_files, \"image_label\": image_labels})\n",
    "print(df.shape)"
   ]
  },
  {
   "cell_type": "code",
   "execution_count": 6,
   "metadata": {
    "execution": {
     "iopub.execute_input": "2024-04-17T16:08:29.612471Z",
     "iopub.status.busy": "2024-04-17T16:08:29.612160Z",
     "iopub.status.idle": "2024-04-17T16:08:29.631800Z",
     "shell.execute_reply": "2024-04-17T16:08:29.630972Z",
     "shell.execute_reply.started": "2024-04-17T16:08:29.612444Z"
    }
   },
   "outputs": [
    {
     "data": {
      "text/plain": [
       "array(['FAKE', 'REAL'], dtype=object)"
      ]
     },
     "execution_count": 6,
     "metadata": {},
     "output_type": "execute_result"
    }
   ],
   "source": [
    "df['label'].unique()"
   ]
  },
  {
   "cell_type": "code",
   "execution_count": 7,
   "metadata": {
    "execution": {
     "iopub.execute_input": "2024-04-17T16:08:29.633352Z",
     "iopub.status.busy": "2024-04-17T16:08:29.632993Z",
     "iopub.status.idle": "2024-04-17T16:08:30.628646Z",
     "shell.execute_reply": "2024-04-17T16:08:30.627599Z",
     "shell.execute_reply.started": "2024-04-17T16:08:29.633327Z"
    }
   },
   "outputs": [
    {
     "name": "stdout",
     "output_type": "stream",
     "text": [
      "(120000, 2)\n"
     ]
    }
   ],
   "source": [
    "label_data = df[['image_label']]\n",
    "df = df.drop(['image_label'], axis=1)\n",
    "oversampler = RandomOverSampler(random_state=83)\n",
    "df, resampled_labels = oversampler.fit_resample(df, label_data)\n",
    "df['image_label'] = resampled_labels\n",
    "gc.collect()\n",
    "print(df.shape)"
   ]
  },
  {
   "cell_type": "code",
   "execution_count": 9,
   "metadata": {
    "execution": {
     "iopub.execute_input": "2024-04-17T16:08:30.747103Z",
     "iopub.status.busy": "2024-04-17T16:08:30.746739Z",
     "iopub.status.idle": "2024-04-17T16:08:30.771458Z",
     "shell.execute_reply": "2024-04-17T16:08:30.770584Z",
     "shell.execute_reply.started": "2024-04-17T16:08:30.747065Z"
    }
   },
   "outputs": [
    {
     "data": {
      "image/png": "[encoded data removed]",
      "text/plain": [
       "<PIL.JpegImagePlugin.JpegImageFile image mode=RGB size=32x32>"
      ]
     },
     "execution_count": 9,
     "metadata": {},
     "output_type": "execute_result"
    }
   ],
   "source": [
    "image_dataset = Dataset.from_pandas(df).cast_column(\"image_path\", Image())\n",
    "dataset[0][\"image\"]"
   ]
  },
  {
   "cell_type": "code",
   "execution_count": 12,
   "metadata": {
    "execution": {
     "iopub.execute_input": "2024-04-17T16:08:30.790529Z",
     "iopub.status.busy": "2024-04-17T16:08:30.790274Z",
     "iopub.status.idle": "2024-04-17T16:08:31.399752Z",
     "shell.execute_reply": "2024-04-17T16:08:31.398997Z",
     "shell.execute_reply.started": "2024-04-17T16:08:30.790506Z"
    }
   },
   "outputs": [
    {
     "data": {
      "application/vnd.jupyter.widget-view+json": {
       "model_id": "472c515c7c11464b91dbdfbcba4d2dab",
       "version_major": 2,
       "version_minor": 0
      },
      "text/plain": [
       "Map:   0%|          | 0/120000 [00:00<?, ? examples/s]"
      ]
     },
     "metadata": {},
     "output_type": "display_data"
    },
    {
     "data": {
      "application/vnd.jupyter.widget-view+json": {
       "model_id": "05da2826136c4f2aa90841af57e97383",
       "version_major": 2,
       "version_minor": 0
      },
      "text/plain": [
       "Casting the dataset:   0%|          | 0/120000 [00:00<?, ? examples/s]"
      ]
     },
     "metadata": {},
     "output_type": "display_data"
    }
   ],
   "source": [
    "label_categories = ['REAL', 'FAKE']\n",
    "classification_labels = ClassLabel(num_classes=len(label_categories), names=label_categories)\n",
    "ClassLabels = ClassLabel(num_classes=len(labels_list), names=labels_list)\n",
    "\n",
    "def map_labels(example):\n",
    "    example['image_label'] = classification_labels.str2int(example['image_label'])\n",
    "    return example\n",
    "\n",
    "image_dataset = image_dataset.map(map_labels, batched=True)\n",
    "image_dataset = image_dataset.cast_column('image_label', classification_labels)\n",
    "split_data = image_dataset.train_test_split(test_size=0.4, shuffle=True, stratify_by_column=\"image_label\")\n",
    "training_dataset = split_data['train']\n",
    "testing_dataset = split_data['test']"
   ]
  },
  {
   "cell_type": "code",
   "execution_count": 13,
   "metadata": {
    "execution": {
     "iopub.execute_input": "2024-04-17T16:08:31.401249Z",
     "iopub.status.busy": "2024-04-17T16:08:31.400940Z",
     "iopub.status.idle": "2024-04-17T16:08:32.011905Z",
     "shell.execute_reply": "2024-04-17T16:08:32.010999Z",
     "shell.execute_reply.started": "2024-04-17T16:08:31.401224Z"
    }
   },
   "outputs": [
    {
     "data": {
      "application/vnd.jupyter.widget-view+json": {
       "model_id": "dfe5974a5d57435ea8d2e489c3c27ca5",
       "version_major": 2,
       "version_minor": 0
      },
      "text/plain": [
       "preprocessor_config.json:   0%|          | 0.00/578 [00:00<?, ?B/s]"
      ]
     },
     "metadata": {},
     "output_type": "display_data"
    },
    {
     "name": "stdout",
     "output_type": "stream",
     "text": [
      "Size:  224\n"
     ]
    }
   ],
   "source": [
    "model_directory = \"models/ai_vs_real_image_detection\"\n",
    "image_processor = ViTImageProcessor.from_pretrained(model_directory)\n",
    "mean_image, std_image = image_processor.image_mean, image_processor.image_std\n",
    "image_size = image_processor.size[\"height\"]\n",
    "print(\"Image Size: \", image_size)\n",
    "\n",
    "training_transforms = Compose([Resize((image_size, image_size)), RandomRotation(90),\\\n",
    "                               ToTensor(), Normalize(mean=mean_image, std=std_image)])\n",
    "validation_transforms = Compose([Resize((image_size, image_size)), ToTensor(), Normalize(mean=mean_image, std=std_image)])\n",
    "\n",
    "def apply_train_transforms(examples):\n",
    "    examples['processed_images'] = [training_transforms(image.convert(\"RGB\")) for image in examples['image_path']]\n",
    "    return examples\n",
    "\n",
    "def apply_val_transforms(examples):\n",
    "    examples['processed_images'] = [validation_transforms(image.convert(\"RGB\")) for image in examples['image_path']]\n",
    "    return examples\n"
   ]
  },
  {
   "cell_type": "code",
   "execution_count": 14,
   "metadata": {
    "execution": {
     "iopub.execute_input": "2024-04-17T16:08:32.016031Z",
     "iopub.status.busy": "2024-04-17T16:08:32.015740Z",
     "iopub.status.idle": "2024-04-17T16:08:32.028315Z",
     "shell.execute_reply": "2024-04-17T16:08:32.027401Z",
     "shell.execute_reply.started": "2024-04-17T16:08:32.016005Z"
    }
   },
   "outputs": [],
   "source": [
    "training_dataset.set_transform(apply_train_transforms)\n",
    "testing_dataset.set_transform(apply_val_transforms)"
   ]
  },
  {
   "cell_type": "code",
   "execution_count": 15,
   "metadata": {
    "execution": {
     "iopub.execute_input": "2024-04-17T16:08:32.029778Z",
     "iopub.status.busy": "2024-04-17T16:08:32.029493Z",
     "iopub.status.idle": "2024-04-17T16:08:32.043028Z",
     "shell.execute_reply": "2024-04-17T16:08:32.042252Z",
     "shell.execute_reply.started": "2024-04-17T16:08:32.029754Z"
    }
   },
   "outputs": [],
   "source": [
    "def batch_collator(batch):\n",
    "    image_tensors = torch.stack([item[\"processed_images\"] for item in batch])\n",
    "    label_tensors = torch.tensor([item['image_label'] for item in batch])\n",
    "    return {\"processed_images\": image_tensors, \"labels\": label_tensors}"
   ]
  },
  {
   "cell_type": "code",
   "execution_count": null,
   "metadata": {},
   "outputs": [],
   "source": [
    "vit_model = ViTForImageClassification.from_pretrained(model_directory, num_labels=len(label_categories))"
   ]
  },
  {
   "cell_type": "code",
   "execution_count": 17,
   "metadata": {
    "execution": {
     "iopub.execute_input": "2024-04-17T16:08:52.910442Z",
     "iopub.status.busy": "2024-04-17T16:08:52.910064Z",
     "iopub.status.idle": "2024-04-17T16:08:54.525802Z",
     "shell.execute_reply": "2024-04-17T16:08:54.525054Z",
     "shell.execute_reply.started": "2024-04-17T16:08:52.910399Z"
    }
   },
   "outputs": [
    {
     "data": {
      "application/vnd.jupyter.widget-view+json": {
       "model_id": "16055cc88bca4b1a892993795d3fa4d5",
       "version_major": 2,
       "version_minor": 0
      },
      "text/plain": [
       "Downloading builder script:   0%|          | 0.00/4.20k [00:00<?, ?B/s]"
      ]
     },
     "metadata": {},
     "output_type": "display_data"
    }
   ],
   "source": [
    "accuracy_metric = evaluate.load(\"accuracy\")\n",
    "def compute_evaluation_metrics(eval_predictions):\n",
    "    prediction_scores = eval_predictions.predictions\n",
    "    true_labels = eval_predictions.label_ids\n",
    "    predicted_labels = prediction_scores.argmax(axis=1)\n",
    "    accuracy_result = accuracy_metric.compute(predictions=predicted_labels, references=true_labels)['accuracy']\n",
    "    return {\"accuracy\": accuracy_result}"
   ]
  },
  {
   "cell_type": "code",
   "execution_count": 18,
   "metadata": {
    "execution": {
     "iopub.execute_input": "2024-04-17T16:08:54.527640Z",
     "iopub.status.busy": "2024-04-17T16:08:54.527085Z",
     "iopub.status.idle": "2024-04-17T16:08:54.610672Z",
     "shell.execute_reply": "2024-04-17T16:08:54.609619Z",
     "shell.execute_reply.started": "2024-04-17T16:08:54.527604Z"
    }
   },
   "outputs": [],
   "source": [
    "training_args = TrainingArguments(\n",
    "    output_dir=model_directory,\n",
    "    logging_dir='./logs',\n",
    "    evaluation_strategy=\"epoch\",\n",
    "    learning_rate=1e-6,\n",
    "    per_device_train_batch_size=64,\n",
    "    per_device_eval_batch_size=32,\n",
    "    num_train_epochs=2,\n",
    "    weight_decay=0.02,\n",
    "    warmup_steps=50,\n",
    "    save_strategy='epoch',\n",
    "    load_best_model_at_end=True,\n",
    "    save_total_limit=1,\n",
    "    report_to=\"none\"\n",
    ")\n",
    "\n"
   ]
  },
  {
   "cell_type": "code",
   "execution_count": 19,
   "metadata": {
    "execution": {
     "iopub.execute_input": "2024-04-17T16:08:54.612253Z",
     "iopub.status.busy": "2024-04-17T16:08:54.611942Z",
     "iopub.status.idle": "2024-04-17T16:08:54.848719Z",
     "shell.execute_reply": "2024-04-17T16:08:54.847672Z",
     "shell.execute_reply.started": "2024-04-17T16:08:54.612227Z"
    }
   },
   "outputs": [],
   "source": [
    "model_trainer = Trainer(\n",
    "    model=vit_model,\n",
    "    args=training_args,\n",
    "    train_dataset=training_dataset,\n",
    "    eval_dataset=testing_dataset,\n",
    "    data_collator=batch_collator,\n",
    "    compute_metrics=compute_evaluation_metrics,\n",
    "    tokenizer=image_processor,\n",
    ")\n"
   ]
  },
  {
   "cell_type": "code",
   "execution_count": 21,
   "metadata": {
    "execution": {
     "iopub.execute_input": "2024-04-17T16:21:19.841996Z",
     "iopub.status.busy": "2024-04-17T16:21:19.841732Z",
     "iopub.status.idle": "2024-04-17T17:33:57.399164Z",
     "shell.execute_reply": "2024-04-17T17:33:57.398186Z",
     "shell.execute_reply.started": "2024-04-17T16:21:19.841973Z"
    }
   },
   "outputs": [
    {
     "data": {
      "text/html": [
       "\n",
       "    <div>\n",
       "      \n",
       "      <progress value='2250' max='2250' style='width:300px; height:20px; vertical-align: middle;'></progress>\n",
       "      [2250/2250 1:12:34, Epoch 2/2]\n",
       "    </div>\n",
       "    <table border=\"1\" class=\"dataframe\">\n",
       "  <thead>\n",
       " <tr style=\"text-align: left;\">\n",
       "      <th>Epoch</th>\n",
       "      <th>Training Loss</th>\n",
       "      <th>Validation Loss</th>\n",
       "      <th>Accuracy</th>\n",
       "    </tr>\n",
       "  </thead>\n",
       "  <tbody>\n",
       "    <tr>\n",
       "      <td>1</td>\n",
       "      <td>0.036500</td>\n",
       "      <td>0.044724</td>\n",
       "      <td>0.983812</td>\n",
       "    </tr>\n",
       "    <tr>\n",
       "      <td>2</td>\n",
       "      <td>0.034100</td>\n",
       "      <td>0.043966</td>\n",
       "      <td>0.984271</td>\n",
       "    </tr>\n",
       "  </tbody>\n",
       "</table><p>"
      ],
      "text/plain": [
       "<IPython.core.display.HTML object>"
      ]
     },
     "metadata": {},
     "output_type": "display_data"
    },
    {
     "data": {
      "text/plain": [
       "TrainOutput(global_step=2250, training_loss=0.03648328993055556, metrics={'train_runtime': 4357.2495, 'train_samples_per_second': 33.048, 'train_steps_per_second': 0.516, 'total_flos': 1.1158846504501248e+19, 'train_loss': 0.03648328993055556, 'epoch': 2.0})"
      ]
     },
     "execution_count": 21,
     "metadata": {},
     "output_type": "execute_result"
    }
   ],
   "source": [
    "model_trainer.train()"
   ]
  },
  {
   "cell_type": "code",
   "execution_count": 22,
   "metadata": {
    "execution": {
     "iopub.execute_input": "2024-04-17T17:33:57.400763Z",
     "iopub.status.busy": "2024-04-17T17:33:57.400461Z",
     "iopub.status.idle": "2024-04-17T17:40:22.087883Z",
     "shell.execute_reply": "2024-04-17T17:40:22.086931Z",
     "shell.execute_reply.started": "2024-04-17T17:33:57.400737Z"
    }
   },
   "outputs": [
    {
     "data": {
      "text/html": [],
      "text/plain": [
       "<IPython.core.display.HTML object>"
      ]
     },
     "metadata": {},
     "output_type": "display_data"
    },
    {
     "data": {
      "text/plain": [
       "{'eval_loss': 0.0439663790166378,\n",
       " 'eval_accuracy': 0.9842708333333333,\n",
       " 'eval_runtime': 384.6814,\n",
       " 'eval_samples_per_second': 124.779,\n",
       " 'eval_steps_per_second': 3.899,\n",
       " 'epoch': 2.0}"
      ]
     },
     "execution_count": 22,
     "metadata": {},
     "output_type": "execute_result"
    }
   ],
   "source": [
    "model_trainer.evaluate()"
   ]
  },
  {
   "cell_type": "code",
   "execution_count": 23,
   "metadata": {
    "execution": {
     "iopub.execute_input": "2024-04-17T17:40:22.089434Z",
     "iopub.status.busy": "2024-04-17T17:40:22.089094Z",
     "iopub.status.idle": "2024-04-17T17:46:47.642673Z",
     "shell.execute_reply": "2024-04-17T17:46:47.641762Z",
     "shell.execute_reply.started": "2024-04-17T17:40:22.089401Z"
    }
   },
   "outputs": [
    {
     "name": "stdout",
     "output_type": "stream",
     "text": [
      "{'test_loss': 0.0439663790166378, 'test_accuracy': 0.9842708333333333, 'test_runtime': 385.5472, 'test_samples_per_second': 124.498, 'test_steps_per_second': 3.891}\n"
     ]
    }
   ],
   "source": [
    "test_outputs = model_trainer.predict(testing_dataset)\n",
    "print(test_outputs.metrics)"
   ]
  },
  {
   "cell_type": "code",
   "execution_count": 24,
   "metadata": {
    "execution": {
     "iopub.execute_input": "2024-04-17T17:46:47.644561Z",
     "iopub.status.busy": "2024-04-17T17:46:47.644112Z",
     "iopub.status.idle": "2024-04-17T17:46:48.091251Z",
     "shell.execute_reply": "2024-04-17T17:46:48.090415Z",
     "shell.execute_reply.started": "2024-04-17T17:46:47.644533Z"
    }
   },
   "outputs": [
    {
     "name": "stdout",
     "output_type": "stream",
     "text": [
      "Accuracy: 0.9843\n",
      "F1 Score: 0.9843\n"
     ]
    },
    {
     "data": {
      "image/png": "[encoded data removed]",
      "text/plain": [
       "<Figure size 800x600 with 2 Axes>"
      ]
     },
     "metadata": {},
     "output_type": "display_data"
    },
    {
     "name": "stdout",
     "output_type": "stream",
     "text": [
      "\n",
      "Classification report:\n",
      "\n",
      "              precision    recall  f1-score   support\n",
      "\n",
      "        REAL     0.9882    0.9802    0.9842     24000\n",
      "        FAKE     0.9804    0.9883    0.9843     24000\n",
      "\n",
      "    accuracy                         0.9843     48000\n",
      "   macro avg     0.9843    0.9843    0.9843     48000\n",
      "weighted avg     0.9843    0.9843    0.9843     48000\n",
      "\n"
     ]
    }
   ],
   "source": [
    "import itertools\n",
    "import matplotlib.pyplot as plt\n",
    "from sklearn.metrics import confusion_matrix, classification_report, accuracy_score, f1_score\n",
    "\n",
    "def plot_confusion_matrix(cm, classes, title='Confusion Matrix', cmap=plt.cm.Blues, figsize=(10, 8)):\n",
    "    plt.figure(figsize=figsize)\n",
    "    plt.imshow(cm, interpolation='nearest', cmap=cmap)\n",
    "    plt.title(title)\n",
    "    plt.colorbar()\n",
    "\n",
    "    tick_marks = np.arange(len(classes))\n",
    "    plt.xticks(tick_marks, classes, rotation=90)\n",
    "    plt.yticks(tick_marks, classes)\n",
    "\n",
    "    fmt = '.0f'\n",
    "    thresh = cm.max() / 2.0\n",
    "    for i, j in itertools.product(range(cm.shape[0]), range(cm.shape[1])):\n",
    "        plt.text(j, i, format(cm[i, j], fmt), horizontalalignment=\"center\", color=\"white\" if cm[i, j] > thresh else \"black\")\n",
    "\n",
    "    plt.ylabel('True label')\n",
    "    plt.xlabel('Predicted label')\n",
    "    plt.tight_layout()\n",
    "    plt.show()\n",
    "\n",
    "# Assuming y_true and y_pred have been defined elsewhere in your script, like from the output of a model\n",
    "y_true = test_outputs.label_ids\n",
    "y_pred = test_outputs.predictions.argmax(1)\n",
    "\n",
    "accuracy = accuracy_score(y_true, y_pred)\n",
    "f1 = f1_score(y_true, y_pred, average='macro')\n",
    "\n",
    "print(f\"Accuracy: {accuracy:.4f}\")\n",
    "print(f\"F1 Score: {f1:.4f}\")\n",
    "\n",
    "if len(label_categories) <= 150:  # Using 'label_categories' which should have been defined earlier\n",
    "    cm = confusion_matrix(y_true, y_pred)\n",
    "    plot_confusion_matrix(cm, label_categories, figsize=(8, 6))\n",
    "\n",
    "print(\"\\nClassification report:\\n\")\n",
    "print(classification_report(y_true, y_pred, target_names=label_categories, digits=4))"
   ]
  }
 ],
 "metadata": {
  "kaggle": {
   "accelerator": "none",
   "dataSources": [
    {
     "datasetId": 3041726,
     "sourceId": 5256696,
     "sourceType": "datasetVersion"
    }
   ],
   "dockerImageVersionId": 30559,
   "isGpuEnabled": false,
   "isInternetEnabled": true,
   "language": "python",
   "sourceType": "notebook"
  },
  "kernelspec": {
   "display_name": "Python 3 (ipykernel)",
   "language": "python",
   "name": "python3"
  },
  "language_info": {
   "codemirror_mode": {
    "name": "ipython",
    "version": 3
   },
   "file_extension": ".py",
   "mimetype": "text/x-python",
   "name": "python",
   "nbconvert_exporter": "python",
   "pygments_lexer": "ipython3",
   "version": "3.9.12"
  }
 },
 "nbformat": 4,
 "nbformat_minor": 4
}
