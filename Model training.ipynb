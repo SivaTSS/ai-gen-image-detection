{
 "cells": [
  {
   "cell_type": "markdown",
   "metadata": {},
   "source": [
    "This contains the implementations for the models: Efficientnet, Mobilenet, VGG, Resnet50 "
   ]
  },
  {
   "cell_type": "code",
   "execution_count": 2,
   "metadata": {
    "execution": {
     "iopub.execute_input": "2024-04-17T23:21:19.675607Z",
     "iopub.status.busy": "2024-04-17T23:21:19.674269Z",
     "iopub.status.idle": "2024-04-17T23:21:33.896576Z",
     "shell.execute_reply": "2024-04-17T23:21:33.895446Z",
     "shell.execute_reply.started": "2024-04-17T23:21:19.675551Z"
    }
   },
   "outputs": [
    {
     "name": "stderr",
     "output_type": "stream",
     "text": [
      "2024-04-17 23:21:21.427575: E external/local_xla/xla/stream_executor/cuda/cuda_dnn.cc:9261] Unable to register cuDNN factory: Attempting to register factory for plugin cuDNN when one has already been registered\n",
      "2024-04-17 23:21:21.427679: E external/local_xla/xla/stream_executor/cuda/cuda_fft.cc:607] Unable to register cuFFT factory: Attempting to register factory for plugin cuFFT when one has already been registered\n",
      "2024-04-17 23:21:21.564149: E external/local_xla/xla/stream_executor/cuda/cuda_blas.cc:1515] Unable to register cuBLAS factory: Attempting to register factory for plugin cuBLAS when one has already been registered\n"
     ]
    }
   ],
   "source": [
    "import numpy as np\n",
    "import matplotlib.pyplot as plt\n",
    "import tensorflow as tf\n",
    "from tensorflow.keras.layers import Dense, Dropout, BatchNormalization\n",
    "from tensorflow.keras import regularizers\n",
    "from IPython.display import Image"
   ]
  },
  {
   "cell_type": "code",
   "execution_count": 3,
   "metadata": {
    "execution": {
     "iopub.execute_input": "2024-04-17T23:21:33.899341Z",
     "iopub.status.busy": "2024-04-17T23:21:33.898735Z",
     "iopub.status.idle": "2024-04-17T23:21:33.905091Z",
     "shell.execute_reply": "2024-04-17T23:21:33.903987Z",
     "shell.execute_reply.started": "2024-04-17T23:21:33.899304Z"
    }
   },
   "outputs": [
    {
     "name": "stdout",
     "output_type": "stream",
     "text": [
      "Loading dataset from: /kaggle/input/cifake-real-and-ai-generated-synthetic-images/\n"
     ]
    }
   ],
   "source": [
    "dataset_dir =  \"dataset/cifake/\"\n",
    "print(dataset_dir)"
   ]
  },
  {
   "cell_type": "code",
   "execution_count": 4,
   "metadata": {
    "execution": {
     "iopub.execute_input": "2024-04-17T23:21:33.907109Z",
     "iopub.status.busy": "2024-04-17T23:21:33.906399Z",
     "iopub.status.idle": "2024-04-17T23:21:34.125936Z",
     "shell.execute_reply": "2024-04-17T23:21:34.124793Z",
     "shell.execute_reply.started": "2024-04-17T23:21:33.907082Z"
    }
   },
   "outputs": [
    {
     "name": "stdout",
     "output_type": "stream",
     "text": [
      "Num GPUs Available:  1\n"
     ]
    }
   ],
   "source": [
    "print(\"Num GPUs Available: \", len(tf.config.list_physical_devices('GPU')))"
   ]
  },
  {
   "cell_type": "code",
   "execution_count": 5,
   "metadata": {
    "execution": {
     "iopub.execute_input": "2024-04-17T23:21:34.127461Z",
     "iopub.status.busy": "2024-04-17T23:21:34.127077Z",
     "iopub.status.idle": "2024-04-17T23:23:54.936359Z",
     "shell.execute_reply": "2024-04-17T23:23:54.935400Z",
     "shell.execute_reply.started": "2024-04-17T23:21:34.127434Z"
    }
   },
   "outputs": [
    {
     "name": "stdout",
     "output_type": "stream",
     "text": [
      "Found 100000 files belonging to 2 classes.\n",
      "Found 20000 files belonging to 2 classes.\n",
      "Training Classes:\n",
      "['FAKE', 'REAL']\n",
      "Testing Classes:\n",
      "['FAKE', 'REAL']\n"
     ]
    }
   ],
   "source": [
    "img_height = 32\n",
    "img_width = 32\n",
    "batch_size = 512\n",
    "\n",
    "# Load the training data\n",
    "train_ds = tf.keras.utils.image_dataset_from_directory(\n",
    "  dataset_dir + \"/train\",\n",
    "  seed = 512,\n",
    "  image_size = (img_height, img_width),\n",
    "  batch_size = batch_size)\n",
    "\n",
    "# Load the validation data\n",
    "val_ds = tf.keras.utils.image_dataset_from_directory(\n",
    "  dataset_dir + \"/test\",\n",
    "  seed = 512,\n",
    "  image_size = (img_height, img_width),\n",
    "  batch_size = batch_size)\n",
    "\n",
    "print(\"Training Classes:\")\n",
    "class_names = train_ds.class_names\n",
    "print(class_names)\n",
    "\n",
    "print(\"Testing Classes:\")\n",
    "class_names = val_ds.class_names\n",
    "print(class_names)"
   ]
  },
  {
   "cell_type": "code",
   "execution_count": 6,
   "metadata": {
    "execution": {
     "iopub.execute_input": "2024-04-17T23:23:54.940112Z",
     "iopub.status.busy": "2024-04-17T23:23:54.939708Z",
     "iopub.status.idle": "2024-04-17T23:24:18.148038Z",
     "shell.execute_reply": "2024-04-17T23:24:18.147129Z",
     "shell.execute_reply.started": "2024-04-17T23:23:54.940084Z"
    }
   },
   "outputs": [],
   "source": [
    "def plot_metrics(history, metric):\n",
    "    plt.plot(history.history[metric], label = metric)\n",
    "    plt.plot(history.history['val_' + metric], label='val_' + metric)\n",
    "    plt.xlabel('Epochs')\n",
    "    plt.ylabel(metric)\n",
    "    plt.legend()\n",
    "    plt.show()\n",
    "    \n",
    "val_true_classes = np.concatenate([y for x, y in val_ds], axis = 0)  # Get true labels\n",
    "class_names = ['FAKE', 'REAL']\n",
    "early_stopping = tf.keras.callbacks.EarlyStopping(monitor = 'val_loss', patience = 10, restore_best_weights = True) "
   ]
  },
  {
   "cell_type": "markdown",
   "metadata": {},
   "source": [
    "# ResNet50"
   ]
  },
  {
   "cell_type": "code",
   "execution_count": 29,
   "metadata": {
    "execution": {
     "iopub.execute_input": "2024-04-18T00:19:53.204045Z",
     "iopub.status.busy": "2024-04-18T00:19:53.203282Z",
     "iopub.status.idle": "2024-04-18T00:19:56.975572Z",
     "shell.execute_reply": "2024-04-18T00:19:56.974399Z",
     "shell.execute_reply.started": "2024-04-18T00:19:53.204010Z"
    }
   },
   "outputs": [
    {
     "name": "stdout",
     "output_type": "stream",
     "text": [
      "Downloading data from https://storage.googleapis.com/tensorflow/keras-applications/resnet/resnet50_weights_tf_dim_ordering_tf_kernels_notop.h5\n",
      "94765736/94765736 [==============================] - 1s 0us/step\n",
      "Model: \"model_4\"\n",
      "_________________________________________________________________\n",
      " Layer (type)                Output Shape              Param #   \n",
      "=================================================================\n",
      " input_10 (InputLayer)       [(None, 32, 32, 3)]       0         \n",
      "                                                                 \n",
      " resnet50 (Functional)       (None, 2048)              23587712  \n",
      "                                                                 \n",
      " batch_normalization_4 (Bat  (None, 2048)              8192      \n",
      " chNormalization)                                                \n",
      "                                                                 \n",
      " dense_12 (Dense)            (None, 256)               524544    \n",
      "                                                                 \n",
      " dropout_4 (Dropout)         (None, 256)               0         \n",
      "                                                                 \n",
      " dense_13 (Dense)            (None, 64)                16448     \n",
      "                                                                 \n",
      " dense_14 (Dense)            (None, 1)                 65        \n",
      "                                                                 \n",
      "=================================================================\n",
      "Total params: 24136961 (92.08 MB)\n",
      "Trainable params: 24079745 (91.86 MB)\n",
      "Non-trainable params: 57216 (223.50 KB)\n",
      "_________________________________________________________________\n"
     ]
    }
   ],
   "source": [
    "# Building the Transfer Learning model using ResNet50\n",
    "ResNet_base_model = tf.keras.applications.ResNet50(\n",
    "    include_top = False, \n",
    "    weights = 'imagenet', \n",
    "    input_shape = (img_height, img_width, 3),\n",
    "    pooling = 'max'\n",
    ")\n",
    "ResNet_base_model.trainable = True\n",
    "\n",
    "# Create a new model on top of the ResNet50 base\n",
    "inputs = tf.keras.Input(shape = (img_height, img_width, 3))\n",
    "x = ResNet_base_model(inputs, training = False)\n",
    "x = BatchNormalization(axis = -1, momentum = 0.99, epsilon = 0.001)(x)\n",
    "x = Dense(256, \n",
    "          kernel_regularizer = regularizers.l2(0.01), \n",
    "          activity_regularizer = regularizers.l1(0.01), \n",
    "          bias_regularizer = regularizers.l1(0.01),\n",
    "          activation = 'relu')(x)\n",
    "x = Dropout(rate = .4, seed = 512)(x)       \n",
    "x = Dense(64, activation = 'relu')(x)\n",
    "outputs = Dense(1, activation = 'sigmoid')(x)\n",
    "ResNet_model = tf.keras.Model(inputs, outputs)\n",
    "\n",
    "# Compile the model\n",
    "ResNet_model.compile(\n",
    "    optimizer = tf.keras.optimizers.Adamax(learning_rate = .001),\n",
    "    loss = tf.keras.losses.BinaryCrossentropy(),\n",
    "    metrics = ['accuracy', tf.keras.metrics.Precision(), tf.keras.metrics.Recall()]\n",
    ")\n",
    "\n",
    "# Summary of the model\n",
    "ResNet_model.summary()"
   ]
  },
  {
   "cell_type": "code",
   "execution_count": 31,
   "metadata": {
    "execution": {
     "iopub.execute_input": "2024-04-18T00:21:18.045150Z",
     "iopub.status.busy": "2024-04-18T00:21:18.044413Z",
     "iopub.status.idle": "2024-04-18T00:32:58.494304Z",
     "shell.execute_reply": "2024-04-18T00:32:58.493225Z",
     "shell.execute_reply.started": "2024-04-18T00:21:18.045114Z"
    }
   },
   "outputs": [
    {
     "name": "stdout",
     "output_type": "stream",
     "text": [
      "Starting training with Transfer Learning using ResNet50...\n",
      "Epoch 1/25\n",
      "196/196 [==============================] - 75s 181ms/step - loss: 1.4876 - accuracy: 0.9146 - precision_4: 0.9142 - recall_4: 0.9152 - val_loss: 0.6925 - val_accuracy: 0.8471 - val_precision_4: 0.9898 - val_recall_4: 0.7013\n",
      "Epoch 2/25\n",
      "196/196 [==============================] - 31s 153ms/step - loss: 0.3046 - accuracy: 0.9488 - precision_4: 0.9496 - recall_4: 0.9480 - val_loss: 0.2881 - val_accuracy: 0.9342 - val_precision_4: 0.9044 - val_recall_4: 0.9710\n",
      "Epoch 3/25\n",
      "196/196 [==============================] - 31s 153ms/step - loss: 0.1776 - accuracy: 0.9584 - precision_4: 0.9595 - recall_4: 0.9571 - val_loss: 0.1747 - val_accuracy: 0.9523 - val_precision_4: 0.9468 - val_recall_4: 0.9584\n",
      "Epoch 4/25\n",
      "196/196 [==============================] - 31s 153ms/step - loss: 0.1334 - accuracy: 0.9679 - precision_4: 0.9694 - recall_4: 0.9662 - val_loss: 0.2476 - val_accuracy: 0.9229 - val_precision_4: 0.9867 - val_recall_4: 0.8574\n",
      "Epoch 5/25\n",
      "196/196 [==============================] - 30s 151ms/step - loss: 0.1102 - accuracy: 0.9736 - precision_4: 0.9756 - recall_4: 0.9715 - val_loss: 0.1590 - val_accuracy: 0.9510 - val_precision_4: 0.9271 - val_recall_4: 0.9791\n",
      "Epoch 6/25\n",
      "196/196 [==============================] - 30s 148ms/step - loss: 0.0933 - accuracy: 0.9786 - precision_4: 0.9797 - recall_4: 0.9775 - val_loss: 0.1378 - val_accuracy: 0.9597 - val_precision_4: 0.9680 - val_recall_4: 0.9509\n",
      "Epoch 7/25\n",
      "196/196 [==============================] - 30s 151ms/step - loss: 0.0797 - accuracy: 0.9823 - precision_4: 0.9831 - recall_4: 0.9814 - val_loss: 0.1331 - val_accuracy: 0.9612 - val_precision_4: 0.9660 - val_recall_4: 0.9561\n",
      "Epoch 8/25\n",
      "196/196 [==============================] - 30s 147ms/step - loss: 0.0698 - accuracy: 0.9846 - precision_4: 0.9854 - recall_4: 0.9838 - val_loss: 0.1555 - val_accuracy: 0.9603 - val_precision_4: 0.9466 - val_recall_4: 0.9756\n",
      "Epoch 9/25\n",
      "196/196 [==============================] - 31s 152ms/step - loss: 0.0590 - accuracy: 0.9882 - precision_4: 0.9888 - recall_4: 0.9875 - val_loss: 0.1671 - val_accuracy: 0.9616 - val_precision_4: 0.9668 - val_recall_4: 0.9560\n",
      "Epoch 10/25\n",
      "196/196 [==============================] - 30s 147ms/step - loss: 0.0521 - accuracy: 0.9902 - precision_4: 0.9907 - recall_4: 0.9897 - val_loss: 0.1590 - val_accuracy: 0.9541 - val_precision_4: 0.9312 - val_recall_4: 0.9806\n",
      "Epoch 11/25\n",
      "196/196 [==============================] - 34s 168ms/step - loss: 0.0437 - accuracy: 0.9924 - precision_4: 0.9930 - recall_4: 0.9918 - val_loss: 0.1262 - val_accuracy: 0.9604 - val_precision_4: 0.9515 - val_recall_4: 0.9702\n",
      "Epoch 12/25\n",
      "196/196 [==============================] - 32s 158ms/step - loss: 0.0424 - accuracy: 0.9919 - precision_4: 0.9924 - recall_4: 0.9915 - val_loss: 0.1928 - val_accuracy: 0.9566 - val_precision_4: 0.9374 - val_recall_4: 0.9786\n",
      "Epoch 13/25\n",
      "196/196 [==============================] - 31s 151ms/step - loss: 0.0376 - accuracy: 0.9937 - precision_4: 0.9941 - recall_4: 0.9934 - val_loss: 0.1646 - val_accuracy: 0.9376 - val_precision_4: 0.9908 - val_recall_4: 0.8834\n",
      "Epoch 14/25\n",
      "196/196 [==============================] - 30s 150ms/step - loss: 0.0378 - accuracy: 0.9933 - precision_4: 0.9935 - recall_4: 0.9931 - val_loss: 0.1394 - val_accuracy: 0.9595 - val_precision_4: 0.9521 - val_recall_4: 0.9677\n",
      "Epoch 15/25\n",
      "196/196 [==============================] - 30s 151ms/step - loss: 0.0327 - accuracy: 0.9949 - precision_4: 0.9952 - recall_4: 0.9946 - val_loss: 0.2271 - val_accuracy: 0.9609 - val_precision_4: 0.9494 - val_recall_4: 0.9737\n",
      "Epoch 16/25\n",
      "196/196 [==============================] - 31s 152ms/step - loss: 0.0321 - accuracy: 0.9944 - precision_4: 0.9945 - recall_4: 0.9942 - val_loss: 0.2937 - val_accuracy: 0.9362 - val_precision_4: 0.8937 - val_recall_4: 0.9902\n",
      "Epoch 17/25\n",
      "196/196 [==============================] - 30s 149ms/step - loss: 0.0328 - accuracy: 0.9949 - precision_4: 0.9952 - recall_4: 0.9947 - val_loss: 0.2453 - val_accuracy: 0.9536 - val_precision_4: 0.9289 - val_recall_4: 0.9824\n",
      "Epoch 18/25\n",
      "196/196 [==============================] - 31s 151ms/step - loss: 0.0308 - accuracy: 0.9950 - precision_4: 0.9955 - recall_4: 0.9945 - val_loss: 0.2739 - val_accuracy: 0.9453 - val_precision_4: 0.9115 - val_recall_4: 0.9864\n",
      "Epoch 19/25\n",
      "196/196 [==============================] - 30s 148ms/step - loss: 0.0253 - accuracy: 0.9965 - precision_4: 0.9964 - recall_4: 0.9965 - val_loss: 0.3016 - val_accuracy: 0.9646 - val_precision_4: 0.9749 - val_recall_4: 0.9538\n",
      "Epoch 20/25\n",
      "196/196 [==============================] - 32s 158ms/step - loss: 0.0273 - accuracy: 0.9958 - precision_4: 0.9962 - recall_4: 0.9954 - val_loss: 0.3526 - val_accuracy: 0.9542 - val_precision_4: 0.9794 - val_recall_4: 0.9280\n",
      "Epoch 21/25\n",
      "196/196 [==============================] - 30s 150ms/step - loss: 0.0272 - accuracy: 0.9961 - precision_4: 0.9960 - recall_4: 0.9963 - val_loss: 1.1224 - val_accuracy: 0.6442 - val_precision_4: 0.5842 - val_recall_4: 0.9999\n",
      "Transfer Learning training finished.\n"
     ]
    }
   ],
   "source": [
    "# Train the Transfer Learning model\n",
    "print(\"Starting training with Transfer Learning using ResNet50...\")\n",
    "ResNet_model_history = ResNet_model.fit(\n",
    "    train_ds,\n",
    "    validation_data = val_ds,\n",
    "    epochs = 25,\n",
    "    verbose = 1,\n",
    "    callbacks = [early_stopping]\n",
    ")\n",
    "print(\"Transfer Learning training finished.\")"
   ]
  },
  {
   "cell_type": "code",
   "execution_count": 32,
   "metadata": {
    "execution": {
     "iopub.execute_input": "2024-04-18T00:33:10.731498Z",
     "iopub.status.busy": "2024-04-18T00:33:10.730636Z",
     "iopub.status.idle": "2024-04-18T00:33:15.260600Z",
     "shell.execute_reply": "2024-04-18T00:33:15.259439Z",
     "shell.execute_reply.started": "2024-04-18T00:33:10.731461Z"
    }
   },
   "outputs": [
    {
     "name": "stdout",
     "output_type": "stream",
     "text": [
      "40/40 [==============================] - 5s 93ms/step - loss: 0.1262 - accuracy: 0.9604 - precision_4: 0.9515 - recall_4: 0.9702\n",
      "Val Loss: 0.1262\n",
      "Val Accuracy: 0.9604\n",
      "Val Precision: 0.9515\n",
      "Val Recall: 0.9702\n"
     ]
    }
   ],
   "source": [
    "# Evaluate the model on the test dataset\n",
    "val_loss, val_accuracy, val_precision, val_recall = ResNet_model.evaluate(val_ds)\n",
    "\n",
    "# Print the metrics\n",
    "print(f\"Val Loss: {val_loss:.4f}\")\n",
    "print(f\"Val Accuracy: {val_accuracy:.4f}\")\n",
    "print(f\"Val Precision: {val_precision:.4f}\")\n",
    "print(f\"Val Recall: {val_recall:.4f}\")"
   ]
  },
  {
   "cell_type": "markdown",
   "metadata": {},
   "source": [
    "# VGG"
   ]
  },
  {
   "cell_type": "code",
   "execution_count": 12,
   "metadata": {
    "execution": {
     "iopub.execute_input": "2024-04-17T23:39:37.803344Z",
     "iopub.status.busy": "2024-04-17T23:39:37.803043Z",
     "iopub.status.idle": "2024-04-17T23:39:38.919420Z",
     "shell.execute_reply": "2024-04-17T23:39:38.918445Z",
     "shell.execute_reply.started": "2024-04-17T23:39:37.803318Z"
    }
   },
   "outputs": [
    {
     "name": "stdout",
     "output_type": "stream",
     "text": [
      "Downloading data from https://storage.googleapis.com/tensorflow/keras-applications/vgg16/vgg16_weights_tf_dim_ordering_tf_kernels_notop.h5\n",
      "58889256/58889256 [==============================] - 0s 0us/step\n",
      "Model: \"model_1\"\n",
      "_________________________________________________________________\n",
      " Layer (type)                Output Shape              Param #   \n",
      "=================================================================\n",
      " input_4 (InputLayer)        [(None, 32, 32, 3)]       0         \n",
      "                                                                 \n",
      " vgg16 (Functional)          (None, 512)               14714688  \n",
      "                                                                 \n",
      " batch_normalization_1 (Bat  (None, 512)               2048      \n",
      " chNormalization)                                                \n",
      "                                                                 \n",
      " dense_3 (Dense)             (None, 256)               131328    \n",
      "                                                                 \n",
      " dropout_1 (Dropout)         (None, 256)               0         \n",
      "                                                                 \n",
      " dense_4 (Dense)             (None, 64)                16448     \n",
      "                                                                 \n",
      " dense_5 (Dense)             (None, 1)                 65        \n",
      "                                                                 \n",
      "=================================================================\n",
      "Total params: 14864577 (56.70 MB)\n",
      "Trainable params: 14863553 (56.70 MB)\n",
      "Non-trainable params: 1024 (4.00 KB)\n",
      "_________________________________________________________________\n"
     ]
    }
   ],
   "source": [
    "# Building the Transfer Learning model using VGG16\n",
    "VGG_base_model = tf.keras.applications.VGG16(\n",
    "    include_top = False, \n",
    "    weights = 'imagenet', \n",
    "    input_shape = (img_height, img_width, 3),\n",
    "    pooling = 'max'\n",
    ")\n",
    "VGG_base_model.trainable = True\n",
    "\n",
    "# Create a new model on top of the VGG16 base\n",
    "inputs = tf.keras.Input(shape = (img_height, img_width, 3))\n",
    "x = VGG_base_model(inputs, training = False)\n",
    "x = BatchNormalization(axis = -1, momentum = 0.99, epsilon = 0.001)(x)\n",
    "x = Dense(256, \n",
    "          kernel_regularizer = regularizers.l2(0.01), \n",
    "          activity_regularizer = regularizers.l1(0.01), \n",
    "          bias_regularizer = regularizers.l1(0.01),\n",
    "          activation = 'relu')(x)\n",
    "x = Dropout(rate = .4, seed = 512)(x)       \n",
    "x = Dense(64, activation = 'relu')(x)\n",
    "outputs = Dense(1, activation = 'sigmoid')(x)\n",
    "VGG_model = tf.keras.Model(inputs, outputs)\n",
    "\n",
    "# Compile the Transfer Learning model\n",
    "VGG_model.compile(\n",
    "    optimizer = tf.keras.optimizers.Adamax(learning_rate = .001),\n",
    "    loss = tf.keras.losses.BinaryCrossentropy(),\n",
    "    metrics = ['accuracy', tf.keras.metrics.Precision(), tf.keras.metrics.Recall()]\n",
    ")\n",
    "\n",
    "# Build the Transfer Learning model so we can see a summary\n",
    "VGG_model.summary()"
   ]
  },
  {
   "cell_type": "code",
   "execution_count": 14,
   "metadata": {
    "execution": {
     "iopub.execute_input": "2024-04-17T23:39:39.015744Z",
     "iopub.status.busy": "2024-04-17T23:39:39.015393Z",
     "iopub.status.idle": "2024-04-17T23:50:01.824271Z",
     "shell.execute_reply": "2024-04-17T23:50:01.823047Z",
     "shell.execute_reply.started": "2024-04-17T23:39:39.015712Z"
    }
   },
   "outputs": [
    {
     "name": "stdout",
     "output_type": "stream",
     "text": [
      "Starting training with Transfer Learning using VGG16...\n",
      "Epoch 1/100\n",
      "196/196 [==============================] - 43s 148ms/step - loss: 1.5213 - accuracy: 0.7746 - precision_1: 0.7585 - recall_1: 0.8058 - val_loss: 1.0254 - val_accuracy: 0.6705 - val_precision_1: 0.6032 - val_recall_1: 0.9968\n",
      "Epoch 2/100\n",
      "196/196 [==============================] - 28s 140ms/step - loss: 0.4066 - accuracy: 0.9116 - precision_1: 0.9064 - recall_1: 0.9181 - val_loss: 0.4138 - val_accuracy: 0.8622 - val_precision_1: 0.7939 - val_recall_1: 0.9785\n",
      "Epoch 3/100\n",
      "196/196 [==============================] - 26s 129ms/step - loss: 0.2569 - accuracy: 0.9314 - precision_1: 0.9309 - recall_1: 0.9319 - val_loss: 0.2499 - val_accuracy: 0.9244 - val_precision_1: 0.8968 - val_recall_1: 0.9591\n",
      "Epoch 4/100\n",
      "196/196 [==============================] - 28s 136ms/step - loss: 0.1999 - accuracy: 0.9436 - precision_1: 0.9454 - recall_1: 0.9417 - val_loss: 0.2242 - val_accuracy: 0.9272 - val_precision_1: 0.9691 - val_recall_1: 0.8824\n",
      "Epoch 5/100\n",
      "196/196 [==============================] - 28s 136ms/step - loss: 0.1676 - accuracy: 0.9529 - precision_1: 0.9548 - recall_1: 0.9507 - val_loss: 0.1663 - val_accuracy: 0.9495 - val_precision_1: 0.9669 - val_recall_1: 0.9309\n",
      "Epoch 6/100\n",
      "196/196 [==============================] - 27s 136ms/step - loss: 0.1441 - accuracy: 0.9603 - precision_1: 0.9624 - recall_1: 0.9581 - val_loss: 0.2294 - val_accuracy: 0.9202 - val_precision_1: 0.9867 - val_recall_1: 0.8519\n",
      "Epoch 7/100\n",
      "196/196 [==============================] - 27s 133ms/step - loss: 0.1244 - accuracy: 0.9663 - precision_1: 0.9667 - recall_1: 0.9657 - val_loss: 0.1603 - val_accuracy: 0.9487 - val_precision_1: 0.9231 - val_recall_1: 0.9789\n",
      "Epoch 8/100\n",
      "196/196 [==============================] - 26s 129ms/step - loss: 0.1106 - accuracy: 0.9704 - precision_1: 0.9715 - recall_1: 0.9693 - val_loss: 0.1864 - val_accuracy: 0.9405 - val_precision_1: 0.9035 - val_recall_1: 0.9863\n",
      "Epoch 9/100\n",
      "196/196 [==============================] - 27s 132ms/step - loss: 0.0954 - accuracy: 0.9756 - precision_1: 0.9765 - recall_1: 0.9746 - val_loss: 0.1526 - val_accuracy: 0.9549 - val_precision_1: 0.9664 - val_recall_1: 0.9426\n",
      "Epoch 10/100\n",
      "196/196 [==============================] - 26s 128ms/step - loss: 0.0828 - accuracy: 0.9791 - precision_1: 0.9799 - recall_1: 0.9783 - val_loss: 0.1889 - val_accuracy: 0.9337 - val_precision_1: 0.8935 - val_recall_1: 0.9846\n",
      "Epoch 11/100\n",
      "196/196 [==============================] - 27s 135ms/step - loss: 0.0714 - accuracy: 0.9829 - precision_1: 0.9840 - recall_1: 0.9818 - val_loss: 0.1467 - val_accuracy: 0.9600 - val_precision_1: 0.9727 - val_recall_1: 0.9466\n",
      "Epoch 12/100\n",
      "196/196 [==============================] - 25s 125ms/step - loss: 0.0581 - accuracy: 0.9876 - precision_1: 0.9884 - recall_1: 0.9866 - val_loss: 0.1430 - val_accuracy: 0.9603 - val_precision_1: 0.9715 - val_recall_1: 0.9485\n",
      "Epoch 13/100\n",
      "196/196 [==============================] - 27s 134ms/step - loss: 0.0556 - accuracy: 0.9877 - precision_1: 0.9883 - recall_1: 0.9871 - val_loss: 0.1465 - val_accuracy: 0.9587 - val_precision_1: 0.9449 - val_recall_1: 0.9742\n",
      "Epoch 14/100\n",
      "196/196 [==============================] - 26s 126ms/step - loss: 0.0463 - accuracy: 0.9906 - precision_1: 0.9907 - recall_1: 0.9904 - val_loss: 0.1727 - val_accuracy: 0.9585 - val_precision_1: 0.9391 - val_recall_1: 0.9805\n",
      "Epoch 15/100\n",
      "196/196 [==============================] - 28s 136ms/step - loss: 0.0403 - accuracy: 0.9922 - precision_1: 0.9923 - recall_1: 0.9920 - val_loss: 0.1479 - val_accuracy: 0.9629 - val_precision_1: 0.9641 - val_recall_1: 0.9617\n",
      "Epoch 16/100\n",
      "196/196 [==============================] - 26s 126ms/step - loss: 0.0374 - accuracy: 0.9929 - precision_1: 0.9931 - recall_1: 0.9927 - val_loss: 0.1623 - val_accuracy: 0.9585 - val_precision_1: 0.9707 - val_recall_1: 0.9455\n",
      "Epoch 17/100\n",
      "196/196 [==============================] - 28s 137ms/step - loss: 0.0341 - accuracy: 0.9935 - precision_1: 0.9936 - recall_1: 0.9934 - val_loss: 0.1496 - val_accuracy: 0.9627 - val_precision_1: 0.9652 - val_recall_1: 0.9599\n",
      "Epoch 18/100\n",
      "196/196 [==============================] - 26s 129ms/step - loss: 0.0314 - accuracy: 0.9942 - precision_1: 0.9943 - recall_1: 0.9942 - val_loss: 0.1824 - val_accuracy: 0.9528 - val_precision_1: 0.9793 - val_recall_1: 0.9253\n",
      "Epoch 19/100\n",
      "196/196 [==============================] - 28s 135ms/step - loss: 0.0294 - accuracy: 0.9947 - precision_1: 0.9951 - recall_1: 0.9943 - val_loss: 0.1441 - val_accuracy: 0.9578 - val_precision_1: 0.9738 - val_recall_1: 0.9408\n",
      "Epoch 20/100\n",
      "196/196 [==============================] - 27s 133ms/step - loss: 0.0249 - accuracy: 0.9961 - precision_1: 0.9961 - recall_1: 0.9960 - val_loss: 0.1647 - val_accuracy: 0.9640 - val_precision_1: 0.9659 - val_recall_1: 0.9621\n",
      "Epoch 21/100\n",
      "196/196 [==============================] - 28s 136ms/step - loss: 0.0251 - accuracy: 0.9957 - precision_1: 0.9956 - recall_1: 0.9958 - val_loss: 0.1955 - val_accuracy: 0.9545 - val_precision_1: 0.9817 - val_recall_1: 0.9263\n",
      "Epoch 22/100\n",
      "196/196 [==============================] - 27s 132ms/step - loss: 0.0238 - accuracy: 0.9958 - precision_1: 0.9960 - recall_1: 0.9957 - val_loss: 0.1541 - val_accuracy: 0.9635 - val_precision_1: 0.9592 - val_recall_1: 0.9681\n",
      "Transfer Learning training finished.\n"
     ]
    }
   ],
   "source": [
    "print(\"Starting training with Transfer Learning using VGG16...\")\n",
    "VGG_model_history = VGG_model.fit(\n",
    "    train_ds,\n",
    "    validation_data = val_ds,\n",
    "    epochs = 100,\n",
    "    verbose = 1,\n",
    "    callbacks = [early_stopping]\n",
    ")\n",
    "print(\"Transfer Learning training finished.\")"
   ]
  },
  {
   "cell_type": "code",
   "execution_count": 15,
   "metadata": {
    "execution": {
     "iopub.execute_input": "2024-04-17T23:50:01.828845Z",
     "iopub.status.busy": "2024-04-17T23:50:01.828508Z",
     "iopub.status.idle": "2024-04-17T23:50:06.823085Z",
     "shell.execute_reply": "2024-04-17T23:50:06.821963Z",
     "shell.execute_reply.started": "2024-04-17T23:50:01.828818Z"
    }
   },
   "outputs": [
    {
     "name": "stdout",
     "output_type": "stream",
     "text": [
      "40/40 [==============================] - 5s 89ms/step - loss: 0.1430 - accuracy: 0.9603 - precision_1: 0.9715 - recall_1: 0.9485\n",
      "Val Loss: 0.1430\n",
      "Val Accuracy: 0.9603\n",
      "Val Precision: 0.9715\n",
      "Val Recall: 0.9485\n"
     ]
    }
   ],
   "source": [
    "# Evaluate the model on the test dataset\n",
    "val_loss, val_accuracy, val_precision, val_recall = VGG_model.evaluate(val_ds)\n",
    "\n",
    "# Print the metrics\n",
    "print(f\"Val Loss: {val_loss:.4f}\")\n",
    "print(f\"Val Accuracy: {val_accuracy:.4f}\")\n",
    "print(f\"Val Precision: {val_precision:.4f}\")\n",
    "print(f\"Val Recall: {val_recall:.4f}\")"
   ]
  },
  {
   "cell_type": "markdown",
   "metadata": {},
   "source": [
    "# EfficientNetV2B0"
   ]
  },
  {
   "cell_type": "code",
   "execution_count": 17,
   "metadata": {
    "execution": {
     "iopub.execute_input": "2024-04-17T23:50:07.770787Z",
     "iopub.status.busy": "2024-04-17T23:50:07.770344Z",
     "iopub.status.idle": "2024-04-17T23:50:11.900600Z",
     "shell.execute_reply": "2024-04-17T23:50:11.899645Z",
     "shell.execute_reply.started": "2024-04-17T23:50:07.770749Z"
    }
   },
   "outputs": [
    {
     "name": "stdout",
     "output_type": "stream",
     "text": [
      "Model: \"model_2\"\n",
      "_________________________________________________________________\n",
      " Layer (type)                Output Shape              Param #   \n",
      "=================================================================\n",
      " input_6 (InputLayer)        [(None, 32, 32, 3)]       0         \n",
      "                                                                 \n",
      " efficientnetv2-b0 (Functio  (None, 1280)              5919312   \n",
      " nal)                                                            \n",
      "                                                                 \n",
      " batch_normalization_2 (Bat  (None, 1280)              5120      \n",
      " chNormalization)                                                \n",
      "                                                                 \n",
      " dense_6 (Dense)             (None, 256)               327936    \n",
      "                                                                 \n",
      " dropout_2 (Dropout)         (None, 256)               0         \n",
      "                                                                 \n",
      " dense_7 (Dense)             (None, 64)                16448     \n",
      "                                                                 \n",
      " dense_8 (Dense)             (None, 1)                 65        \n",
      "                                                                 \n",
      "=================================================================\n",
      "Total params: 6268881 (23.91 MB)\n",
      "Trainable params: 6205713 (23.67 MB)\n",
      "Non-trainable params: 63168 (246.75 KB)\n",
      "_________________________________________________________________\n"
     ]
    }
   ],
   "source": [
    "# Building the Transfer Learning model using EfficientNetV2B0\n",
    "EfficientNet_base_model = tf.keras.applications.EfficientNetV2B0(\n",
    "    include_top = False, \n",
    "    weights = 'imagenet', \n",
    "    input_shape = (img_height, img_width, 3),\n",
    "    pooling = 'max'\n",
    ")\n",
    "EfficientNet_base_model.trainable = True\n",
    "\n",
    "# Create a new model on top of the EfficientNet base\n",
    "inputs = tf.keras.Input(shape = (img_height, img_width, 3))\n",
    "x = EfficientNet_base_model(inputs, training = False)\n",
    "x = BatchNormalization(axis = -1, momentum = 0.99, epsilon = 0.001)(x)\n",
    "x = Dense(256, \n",
    "          kernel_regularizer = regularizers.l2(0.01), \n",
    "          activity_regularizer = regularizers.l1(0.01), \n",
    "          bias_regularizer = regularizers.l1(0.01),\n",
    "          activation = 'relu')(x)\n",
    "x = Dropout(rate = .4, seed = 512)(x)       \n",
    "x = Dense(64, activation = 'relu')(x)\n",
    "outputs = Dense(1, activation = 'sigmoid')(x)\n",
    "EfficientNet_model = tf.keras.Model(inputs, outputs)\n",
    "\n",
    "# Compile the Transfer Learning model\n",
    "EfficientNet_model.compile(\n",
    "    optimizer = tf.keras.optimizers.Adamax(learning_rate = .001),\n",
    "    loss = tf.keras.losses.BinaryCrossentropy(),\n",
    "    metrics = ['accuracy', tf.keras.metrics.Precision(), tf.keras.metrics.Recall()]\n",
    ")\n",
    "\n",
    "# Build the Transfer Learning model so we can see a summary\n",
    "EfficientNet_model.summary()"
   ]
  },
  {
   "cell_type": "code",
   "execution_count": 19,
   "metadata": {
    "execution": {
     "iopub.execute_input": "2024-04-17T23:50:11.992740Z",
     "iopub.status.busy": "2024-04-17T23:50:11.992456Z",
     "iopub.status.idle": "2024-04-18T00:07:01.354021Z",
     "shell.execute_reply": "2024-04-18T00:07:01.353019Z",
     "shell.execute_reply.started": "2024-04-17T23:50:11.992717Z"
    }
   },
   "outputs": [
    {
     "name": "stdout",
     "output_type": "stream",
     "text": [
      "Starting training with Transfer Learning using EfficientNet...\n",
      "Epoch 1/100\n",
      "196/196 [==============================] - 93s 270ms/step - loss: 1.4939 - accuracy: 0.9352 - precision_2: 0.9353 - recall_2: 0.9351 - val_loss: 0.4574 - val_accuracy: 0.9427 - val_precision_2: 0.9872 - val_recall_2: 0.8971\n",
      "Epoch 2/100\n",
      "196/196 [==============================] - 52s 259ms/step - loss: 0.2335 - accuracy: 0.9683 - precision_2: 0.9696 - recall_2: 0.9670 - val_loss: 0.1595 - val_accuracy: 0.9672 - val_precision_2: 0.9679 - val_recall_2: 0.9664\n",
      "Epoch 3/100\n",
      "196/196 [==============================] - 52s 256ms/step - loss: 0.1237 - accuracy: 0.9775 - precision_2: 0.9781 - recall_2: 0.9769 - val_loss: 0.1251 - val_accuracy: 0.9681 - val_precision_2: 0.9713 - val_recall_2: 0.9646\n",
      "Epoch 4/100\n",
      "196/196 [==============================] - 51s 253ms/step - loss: 0.0899 - accuracy: 0.9838 - precision_2: 0.9843 - recall_2: 0.9832 - val_loss: 0.1256 - val_accuracy: 0.9667 - val_precision_2: 0.9520 - val_recall_2: 0.9830\n",
      "Epoch 5/100\n",
      "196/196 [==============================] - 50s 252ms/step - loss: 0.0703 - accuracy: 0.9877 - precision_2: 0.9886 - recall_2: 0.9868 - val_loss: 0.1278 - val_accuracy: 0.9669 - val_precision_2: 0.9481 - val_recall_2: 0.9880\n",
      "Epoch 6/100\n",
      "196/196 [==============================] - 50s 253ms/step - loss: 0.0553 - accuracy: 0.9916 - precision_2: 0.9923 - recall_2: 0.9909 - val_loss: 0.1217 - val_accuracy: 0.9695 - val_precision_2: 0.9637 - val_recall_2: 0.9758\n",
      "Epoch 7/100\n",
      "196/196 [==============================] - 51s 255ms/step - loss: 0.0450 - accuracy: 0.9939 - precision_2: 0.9942 - recall_2: 0.9936 - val_loss: 0.3336 - val_accuracy: 0.9246 - val_precision_2: 0.9971 - val_recall_2: 0.8517\n",
      "Epoch 8/100\n",
      "196/196 [==============================] - 51s 257ms/step - loss: 0.0380 - accuracy: 0.9952 - precision_2: 0.9958 - recall_2: 0.9947 - val_loss: 0.1246 - val_accuracy: 0.9677 - val_precision_2: 0.9878 - val_recall_2: 0.9471\n",
      "Epoch 9/100\n",
      "196/196 [==============================] - 51s 257ms/step - loss: 0.0313 - accuracy: 0.9966 - precision_2: 0.9968 - recall_2: 0.9965 - val_loss: 0.0927 - val_accuracy: 0.9730 - val_precision_2: 0.9767 - val_recall_2: 0.9692\n",
      "Epoch 10/100\n",
      "196/196 [==============================] - 51s 254ms/step - loss: 0.0263 - accuracy: 0.9977 - precision_2: 0.9978 - recall_2: 0.9977 - val_loss: 0.1220 - val_accuracy: 0.9728 - val_precision_2: 0.9653 - val_recall_2: 0.9809\n",
      "Epoch 11/100\n",
      "196/196 [==============================] - 51s 257ms/step - loss: 0.0237 - accuracy: 0.9977 - precision_2: 0.9978 - recall_2: 0.9977 - val_loss: 0.1439 - val_accuracy: 0.9669 - val_precision_2: 0.9865 - val_recall_2: 0.9469\n",
      "Epoch 12/100\n",
      "196/196 [==============================] - 51s 256ms/step - loss: 0.0203 - accuracy: 0.9985 - precision_2: 0.9987 - recall_2: 0.9984 - val_loss: 0.1647 - val_accuracy: 0.9663 - val_precision_2: 0.9472 - val_recall_2: 0.9877\n",
      "Epoch 13/100\n",
      "196/196 [==============================] - 51s 254ms/step - loss: 0.0202 - accuracy: 0.9979 - precision_2: 0.9979 - recall_2: 0.9979 - val_loss: 0.1519 - val_accuracy: 0.9726 - val_precision_2: 0.9642 - val_recall_2: 0.9817\n",
      "Epoch 14/100\n",
      "196/196 [==============================] - 51s 255ms/step - loss: 0.0178 - accuracy: 0.9984 - precision_2: 0.9985 - recall_2: 0.9984 - val_loss: 0.1275 - val_accuracy: 0.9750 - val_precision_2: 0.9802 - val_recall_2: 0.9696\n",
      "Epoch 15/100\n",
      "196/196 [==============================] - 51s 255ms/step - loss: 0.0164 - accuracy: 0.9986 - precision_2: 0.9984 - recall_2: 0.9988 - val_loss: 0.1573 - val_accuracy: 0.9733 - val_precision_2: 0.9838 - val_recall_2: 0.9624\n",
      "Epoch 16/100\n",
      "196/196 [==============================] - 51s 254ms/step - loss: 0.0145 - accuracy: 0.9988 - precision_2: 0.9988 - recall_2: 0.9988 - val_loss: 0.1286 - val_accuracy: 0.9696 - val_precision_2: 0.9874 - val_recall_2: 0.9512\n",
      "Epoch 17/100\n",
      "196/196 [==============================] - 51s 254ms/step - loss: 0.0143 - accuracy: 0.9987 - precision_2: 0.9986 - recall_2: 0.9988 - val_loss: 0.1115 - val_accuracy: 0.9736 - val_precision_2: 0.9646 - val_recall_2: 0.9834\n",
      "Epoch 18/100\n",
      "196/196 [==============================] - 51s 254ms/step - loss: 0.0141 - accuracy: 0.9985 - precision_2: 0.9986 - recall_2: 0.9985 - val_loss: 0.1464 - val_accuracy: 0.9742 - val_precision_2: 0.9778 - val_recall_2: 0.9703\n",
      "Epoch 19/100\n",
      "196/196 [==============================] - 51s 254ms/step - loss: 0.0122 - accuracy: 0.9991 - precision_2: 0.9991 - recall_2: 0.9991 - val_loss: 0.1414 - val_accuracy: 0.9711 - val_precision_2: 0.9846 - val_recall_2: 0.9573\n",
      "Transfer Learning training finished.\n"
     ]
    }
   ],
   "source": [
    "# Finally, train the Transfer Learning model\n",
    "print(\"Starting training with Transfer Learning using EfficientNet...\")\n",
    "EfficientNet_model_history = EfficientNet_model.fit(\n",
    "    train_ds,\n",
    "    validation_data = val_ds,\n",
    "    epochs = 100,\n",
    "    verbose = 1,\n",
    "    callbacks = [early_stopping]\n",
    ")\n",
    "print(\"Transfer Learning training finished.\")"
   ]
  },
  {
   "cell_type": "code",
   "execution_count": 20,
   "metadata": {
    "execution": {
     "iopub.execute_input": "2024-04-18T00:07:01.355788Z",
     "iopub.status.busy": "2024-04-18T00:07:01.355479Z",
     "iopub.status.idle": "2024-04-18T00:07:06.443935Z",
     "shell.execute_reply": "2024-04-18T00:07:06.442829Z",
     "shell.execute_reply.started": "2024-04-18T00:07:01.355755Z"
    }
   },
   "outputs": [
    {
     "name": "stdout",
     "output_type": "stream",
     "text": [
      "40/40 [==============================] - 5s 89ms/step - loss: 0.0927 - accuracy: 0.9730 - precision_2: 0.9767 - recall_2: 0.9692\n",
      "Val Loss: 0.0927\n",
      "Val Accuracy: 0.9730\n",
      "Val Precision: 0.9767\n",
      "Val Recall: 0.9692\n"
     ]
    }
   ],
   "source": [
    "# Evaluate the model on the test dataset\n",
    "val_loss, val_accuracy, val_precision, val_recall = EfficientNet_model.evaluate(val_ds)\n",
    "\n",
    "# Print the metrics\n",
    "print(f\"Val Loss: {val_loss:.4f}\")\n",
    "print(f\"Val Accuracy: {val_accuracy:.4f}\")\n",
    "print(f\"Val Precision: {val_precision:.4f}\")\n",
    "print(f\"Val Recall: {val_recall:.4f}\")"
   ]
  },
  {
   "cell_type": "code",
   "execution_count": 22,
   "metadata": {
    "execution": {
     "iopub.execute_input": "2024-04-18T00:07:07.466559Z",
     "iopub.status.busy": "2024-04-18T00:07:07.466200Z",
     "iopub.status.idle": "2024-04-18T00:07:08.366385Z",
     "shell.execute_reply": "2024-04-18T00:07:08.365429Z",
     "shell.execute_reply.started": "2024-04-18T00:07:07.466529Z"
    }
   },
   "outputs": [
    {
     "name": "stderr",
     "output_type": "stream",
     "text": [
      "/opt/conda/lib/python3.10/site-packages/keras/src/engine/training.py:3103: UserWarning: You are saving your model as an HDF5 file via `model.save()`. This file format is considered legacy. We recommend using instead the native Keras format, e.g. `model.save('my_model.keras')`.\n",
      "  saving_api.save_model(\n"
     ]
    }
   ],
   "source": [
    "# Save the EfficientNet model\n",
    "EfficientNet_model.save(\"EfficientNet_model.h5\")"
   ]
  },
  {
   "cell_type": "markdown",
   "metadata": {},
   "source": [
    "# MobileNet"
   ]
  },
  {
   "cell_type": "code",
   "execution_count": 23,
   "metadata": {
    "execution": {
     "iopub.execute_input": "2024-04-18T00:07:08.368689Z",
     "iopub.status.busy": "2024-04-18T00:07:08.368168Z",
     "iopub.status.idle": "2024-04-18T00:07:11.362157Z",
     "shell.execute_reply": "2024-04-18T00:07:11.361088Z",
     "shell.execute_reply.started": "2024-04-18T00:07:08.368648Z"
    }
   },
   "outputs": [
    {
     "name": "stdout",
     "output_type": "stream",
     "text": [
      "Downloading data from https://storage.googleapis.com/tensorflow/keras-applications/mobilenet_v3/weights_mobilenet_v3_small_224_1.0_float_no_top_v2.h5\n",
      "4334752/4334752 [==============================] - 0s 0us/step\n",
      "Model: \"model_3\"\n",
      "_________________________________________________________________\n",
      " Layer (type)                Output Shape              Param #   \n",
      "=================================================================\n",
      " input_8 (InputLayer)        [(None, 32, 32, 3)]       0         \n",
      "                                                                 \n",
      " MobilenetV3small (Function  (None, 576)               939120    \n",
      " al)                                                             \n",
      "                                                                 \n",
      " batch_normalization_3 (Bat  (None, 576)               2304      \n",
      " chNormalization)                                                \n",
      "                                                                 \n",
      " dense_9 (Dense)             (None, 256)               147712    \n",
      "                                                                 \n",
      " dropout_3 (Dropout)         (None, 256)               0         \n",
      "                                                                 \n",
      " dense_10 (Dense)            (None, 64)                16448     \n",
      "                                                                 \n",
      " dense_11 (Dense)            (None, 1)                 65        \n",
      "                                                                 \n",
      "=================================================================\n",
      "Total params: 1105649 (4.22 MB)\n",
      "Trainable params: 1092385 (4.17 MB)\n",
      "Non-trainable params: 13264 (51.81 KB)\n",
      "_________________________________________________________________\n"
     ]
    }
   ],
   "source": [
    "# Building the Transfer Learning model using MobileNetV3\n",
    "MobileNet_base_model = tf.keras.applications.MobileNetV3Small(\n",
    "    include_top = False, \n",
    "    weights = 'imagenet', \n",
    "    input_shape = (img_height, img_width, 3),\n",
    "    pooling = 'max'\n",
    ")\n",
    "MobileNet_base_model.trainable = True\n",
    "\n",
    "# Create a new model on top of the MobileNet base\n",
    "inputs = tf.keras.Input(shape = (img_height, img_width, 3))\n",
    "x = MobileNet_base_model(inputs, training = False)\n",
    "x = BatchNormalization(axis = -1, momentum = 0.99, epsilon = 0.001)(x)\n",
    "x = Dense(256, \n",
    "          kernel_regularizer = regularizers.l2(0.01), \n",
    "          activity_regularizer = regularizers.l1(0.01), \n",
    "          bias_regularizer = regularizers.l1(0.01),\n",
    "          activation = 'relu')(x)\n",
    "x = Dropout(rate = .4, seed = 512)(x)       \n",
    "x = Dense(64, activation = 'relu')(x)\n",
    "outputs = Dense(1, activation = 'sigmoid')(x)\n",
    "MobileNet_model = tf.keras.Model(inputs, outputs)\n",
    "\n",
    "# Compile the Transfer Learning model\n",
    "MobileNet_model.compile(\n",
    "    optimizer = 'adam',\n",
    "    loss = tf.keras.losses.BinaryCrossentropy(),\n",
    "    metrics = ['accuracy', tf.keras.metrics.Precision(), tf.keras.metrics.Recall()]\n",
    ")\n",
    "\n",
    "# Build the Transfer Learning model so we can see a summary\n",
    "MobileNet_model.summary()"
   ]
  },
  {
   "cell_type": "code",
   "execution_count": 25,
   "metadata": {
    "execution": {
     "iopub.execute_input": "2024-04-18T00:07:11.458206Z",
     "iopub.status.busy": "2024-04-18T00:07:11.457872Z",
     "iopub.status.idle": "2024-04-18T00:17:28.008126Z",
     "shell.execute_reply": "2024-04-18T00:17:28.007145Z",
     "shell.execute_reply.started": "2024-04-18T00:07:11.458178Z"
    }
   },
   "outputs": [
    {
     "name": "stdout",
     "output_type": "stream",
     "text": [
      "Starting training with Transfer Learning using MobileNet...\n",
      "Epoch 1/100\n",
      "196/196 [==============================] - 62s 156ms/step - loss: 1.0422 - accuracy: 0.7798 - precision_3: 0.8296 - recall_3: 0.7043 - val_loss: 0.6602 - val_accuracy: 0.7689 - val_precision_3: 0.6852 - val_recall_3: 0.9946\n",
      "Epoch 2/100\n",
      "196/196 [==============================] - 28s 137ms/step - loss: 0.2321 - accuracy: 0.9218 - precision_3: 0.9229 - recall_3: 0.9204 - val_loss: 0.2233 - val_accuracy: 0.9211 - val_precision_3: 0.8871 - val_recall_3: 0.9649\n",
      "Epoch 3/100\n",
      "196/196 [==============================] - 27s 132ms/step - loss: 0.1895 - accuracy: 0.9350 - precision_3: 0.9350 - recall_3: 0.9350 - val_loss: 0.2052 - val_accuracy: 0.9247 - val_precision_3: 0.9697 - val_recall_3: 0.8767\n",
      "Epoch 4/100\n",
      "196/196 [==============================] - 27s 134ms/step - loss: 0.1666 - accuracy: 0.9431 - precision_3: 0.9427 - recall_3: 0.9435 - val_loss: 0.1781 - val_accuracy: 0.9366 - val_precision_3: 0.9137 - val_recall_3: 0.9643\n",
      "Epoch 5/100\n",
      "196/196 [==============================] - 27s 135ms/step - loss: 0.1526 - accuracy: 0.9475 - precision_3: 0.9469 - recall_3: 0.9482 - val_loss: 0.1889 - val_accuracy: 0.9324 - val_precision_3: 0.9689 - val_recall_3: 0.8936\n",
      "Epoch 6/100\n",
      "196/196 [==============================] - 27s 131ms/step - loss: 0.1425 - accuracy: 0.9513 - precision_3: 0.9498 - recall_3: 0.9529 - val_loss: 0.1862 - val_accuracy: 0.9296 - val_precision_3: 0.8936 - val_recall_3: 0.9753\n",
      "Epoch 7/100\n",
      "196/196 [==============================] - 28s 137ms/step - loss: 0.1323 - accuracy: 0.9550 - precision_3: 0.9545 - recall_3: 0.9554 - val_loss: 0.1418 - val_accuracy: 0.9485 - val_precision_3: 0.9407 - val_recall_3: 0.9574\n",
      "Epoch 8/100\n",
      "196/196 [==============================] - 27s 135ms/step - loss: 0.1280 - accuracy: 0.9559 - precision_3: 0.9556 - recall_3: 0.9562 - val_loss: 0.1517 - val_accuracy: 0.9474 - val_precision_3: 0.9613 - val_recall_3: 0.9322\n",
      "Epoch 9/100\n",
      "196/196 [==============================] - 28s 137ms/step - loss: 0.1191 - accuracy: 0.9594 - precision_3: 0.9588 - recall_3: 0.9601 - val_loss: 0.1553 - val_accuracy: 0.9441 - val_precision_3: 0.9344 - val_recall_3: 0.9552\n",
      "Epoch 10/100\n",
      "196/196 [==============================] - 27s 133ms/step - loss: 0.1148 - accuracy: 0.9612 - precision_3: 0.9604 - recall_3: 0.9620 - val_loss: 0.1632 - val_accuracy: 0.9412 - val_precision_3: 0.9709 - val_recall_3: 0.9097\n",
      "Epoch 11/100\n",
      "196/196 [==============================] - 29s 144ms/step - loss: 0.1112 - accuracy: 0.9620 - precision_3: 0.9613 - recall_3: 0.9628 - val_loss: 0.1392 - val_accuracy: 0.9508 - val_precision_3: 0.9443 - val_recall_3: 0.9581\n",
      "Epoch 12/100\n",
      "196/196 [==============================] - 28s 137ms/step - loss: 0.1023 - accuracy: 0.9657 - precision_3: 0.9663 - recall_3: 0.9651 - val_loss: 0.1591 - val_accuracy: 0.9446 - val_precision_3: 0.9656 - val_recall_3: 0.9222\n",
      "Epoch 13/100\n",
      "196/196 [==============================] - 32s 155ms/step - loss: 0.1008 - accuracy: 0.9665 - precision_3: 0.9662 - recall_3: 0.9668 - val_loss: 0.2004 - val_accuracy: 0.9284 - val_precision_3: 0.9810 - val_recall_3: 0.8737\n",
      "Epoch 14/100\n",
      "196/196 [==============================] - 27s 133ms/step - loss: 0.0964 - accuracy: 0.9680 - precision_3: 0.9668 - recall_3: 0.9692 - val_loss: 0.1474 - val_accuracy: 0.9427 - val_precision_3: 0.9126 - val_recall_3: 0.9791\n",
      "Epoch 15/100\n",
      "196/196 [==============================] - 28s 140ms/step - loss: 0.0907 - accuracy: 0.9704 - precision_3: 0.9700 - recall_3: 0.9708 - val_loss: 0.1443 - val_accuracy: 0.9466 - val_precision_3: 0.9680 - val_recall_3: 0.9236\n",
      "Epoch 16/100\n",
      "196/196 [==============================] - 27s 134ms/step - loss: 0.0874 - accuracy: 0.9712 - precision_3: 0.9714 - recall_3: 0.9710 - val_loss: 0.1768 - val_accuracy: 0.9429 - val_precision_3: 0.9729 - val_recall_3: 0.9112\n",
      "Epoch 17/100\n",
      "196/196 [==============================] - 27s 136ms/step - loss: 0.0834 - accuracy: 0.9723 - precision_3: 0.9721 - recall_3: 0.9725 - val_loss: 0.1954 - val_accuracy: 0.9357 - val_precision_3: 0.9731 - val_recall_3: 0.8962\n",
      "Epoch 18/100\n",
      "196/196 [==============================] - 27s 133ms/step - loss: 0.0801 - accuracy: 0.9738 - precision_3: 0.9727 - recall_3: 0.9749 - val_loss: 0.1515 - val_accuracy: 0.9499 - val_precision_3: 0.9599 - val_recall_3: 0.9390\n",
      "Epoch 19/100\n",
      "196/196 [==============================] - 26s 132ms/step - loss: 0.0767 - accuracy: 0.9746 - precision_3: 0.9739 - recall_3: 0.9754 - val_loss: 0.1687 - val_accuracy: 0.9470 - val_precision_3: 0.9359 - val_recall_3: 0.9596\n",
      "Epoch 20/100\n",
      "196/196 [==============================] - 28s 137ms/step - loss: 0.0731 - accuracy: 0.9765 - precision_3: 0.9761 - recall_3: 0.9769 - val_loss: 0.1518 - val_accuracy: 0.9514 - val_precision_3: 0.9458 - val_recall_3: 0.9578\n",
      "Epoch 21/100\n",
      "196/196 [==============================] - 28s 141ms/step - loss: 0.0701 - accuracy: 0.9776 - precision_3: 0.9766 - recall_3: 0.9786 - val_loss: 0.1956 - val_accuracy: 0.9419 - val_precision_3: 0.9732 - val_recall_3: 0.9087\n",
      "Transfer Learning training finished.\n"
     ]
    }
   ],
   "source": [
    "# Finally, train the Transfer Learning model\n",
    "print(\"Starting training with Transfer Learning using MobileNet...\")\n",
    "MobileNet_model_history = MobileNet_model.fit(\n",
    "    train_ds,\n",
    "    validation_data = val_ds,\n",
    "    epochs = 100,\n",
    "    verbose = 1,\n",
    "    callbacks = [early_stopping]\n",
    ")\n",
    "print(\"Transfer Learning training finished.\")"
   ]
  },
  {
   "cell_type": "code",
   "execution_count": 26,
   "metadata": {
    "execution": {
     "iopub.execute_input": "2024-04-18T00:17:28.009947Z",
     "iopub.status.busy": "2024-04-18T00:17:28.009516Z",
     "iopub.status.idle": "2024-04-18T00:17:32.702733Z",
     "shell.execute_reply": "2024-04-18T00:17:32.701646Z",
     "shell.execute_reply.started": "2024-04-18T00:17:28.009908Z"
    }
   },
   "outputs": [
    {
     "name": "stdout",
     "output_type": "stream",
     "text": [
      "40/40 [==============================] - 5s 93ms/step - loss: 0.1392 - accuracy: 0.9508 - precision_3: 0.9443 - recall_3: 0.9581\n",
      "Val Loss: 0.1392\n",
      "Val Accuracy: 0.9508\n",
      "Val Precision: 0.9443\n",
      "Val Recall: 0.9581\n"
     ]
    }
   ],
   "source": [
    "# Evaluate the model on the test dataset\n",
    "val_loss, val_accuracy, val_precision, val_recall = MobileNet_model.evaluate(val_ds)\n",
    "\n",
    "# Print the metrics\n",
    "print(f\"Val Loss: {val_loss:.4f}\")\n",
    "print(f\"Val Accuracy: {val_accuracy:.4f}\")\n",
    "print(f\"Val Precision: {val_precision:.4f}\")\n",
    "print(f\"Val Recall: {val_recall:.4f}\")"
   ]
  },
  {
   "cell_type": "code",
   "execution_count": 28,
   "metadata": {
    "execution": {
     "iopub.execute_input": "2024-04-18T00:17:33.637793Z",
     "iopub.status.busy": "2024-04-18T00:17:33.637062Z",
     "iopub.status.idle": "2024-04-18T00:17:34.171566Z",
     "shell.execute_reply": "2024-04-18T00:17:34.170618Z",
     "shell.execute_reply.started": "2024-04-18T00:17:33.637752Z"
    }
   },
   "outputs": [
    {
     "name": "stderr",
     "output_type": "stream",
     "text": [
      "/opt/conda/lib/python3.10/site-packages/keras/src/engine/training.py:3103: UserWarning: You are saving your model as an HDF5 file via `model.save()`. This file format is considered legacy. We recommend using instead the native Keras format, e.g. `model.save('my_model.keras')`.\n",
      "  saving_api.save_model(\n"
     ]
    }
   ],
   "source": [
    "# Save the MobileNet model\n",
    "MobileNet_model.save(\"MobileNet_model.h5\") "
   ]
  }
 ],
 "metadata": {
  "kaggle": {
   "accelerator": "gpu",
   "dataSources": [
    {
     "datasetId": 3041726,
     "sourceId": 5256696,
     "sourceType": "datasetVersion"
    }
   ],
   "dockerImageVersionId": 30648,
   "isGpuEnabled": true,
   "isInternetEnabled": true,
   "language": "python",
   "sourceType": "notebook"
  },
  "kernelspec": {
   "display_name": "Python 3 (ipykernel)",
   "language": "python",
   "name": "python3"
  },
  "language_info": {
   "codemirror_mode": {
    "name": "ipython",
    "version": 3
   },
   "file_extension": ".py",
   "mimetype": "text/x-python",
   "name": "python",
   "nbconvert_exporter": "python",
   "pygments_lexer": "ipython3",
   "version": "3.9.12"
  }
 },
 "nbformat": 4,
 "nbformat_minor": 4
}
